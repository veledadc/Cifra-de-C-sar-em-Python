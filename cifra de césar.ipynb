{
 "cells": [
  {
   "cell_type": "code",
   "execution_count": 1,
   "metadata": {},
   "outputs": [],
   "source": [
    "MODE_ENCRYPT = 1\n",
    "MODE_DECRYPT = 0"
   ]
  },
  {
   "cell_type": "code",
   "execution_count": 2,
   "metadata": {},
   "outputs": [],
   "source": [
    "def caesar(data, key, mode):\n",
    "    alphabet = 'abcdefghijklmnopqrstuvwyzABCDEFGHIJKLMNOPQRSTUVWYZÇ1234567890´{}[]~/^?\\|\"!@#$%¨&*()_+'\n",
    "    new_data = ''\n",
    "    for c in data:\n",
    "        index = alphabet.find(c)\n",
    "        if index == -1:\n",
    "            new_data += c\n",
    "        else:\n",
    "            new_index = index + key if mode == MODE_ENCRYPT else index - key\n",
    "            new_index = new_index % len(alphabet)\n",
    "            new_data += alphabet[new_index:new_index+1]\n",
    "    return new_data"
   ]
  },
  {
   "cell_type": "code",
   "execution_count": 4,
   "metadata": {},
   "outputs": [
    {
     "name": "stdout",
     "output_type": "stream",
     "text": [
      "  Original: Miguel Silva Santos\n",
      "Encriptada: UqoDmt 1qtEi 1ivCwB\n",
      "Decriptada: Miguel Silva Santos\n"
     ]
    }
   ],
   "source": [
    "# Tests\n",
    "key = 8\n",
    "original = 'Miguel Silva Santos'\n",
    "print('  Original:', original)\n",
    "ciphered = caesar(original, key, MODE_ENCRYPT)\n",
    "print('Encriptada:', ciphered)\n",
    "plain = caesar(ciphered, key, MODE_DECRYPT)\n",
    "print('Decriptada:', plain)"
   ]
  }
 ],
 "metadata": {
  "kernelspec": {
   "display_name": "Python 3",
   "language": "python",
   "name": "python3"
  },
  "language_info": {
   "codemirror_mode": {
    "name": "ipython",
    "version": 3
   },
   "file_extension": ".py",
   "mimetype": "text/x-python",
   "name": "python",
   "nbconvert_exporter": "python",
   "pygments_lexer": "ipython3",
   "version": "3.8.5"
  }
 },
 "nbformat": 4,
 "nbformat_minor": 4
}
